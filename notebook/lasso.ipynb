{
 "cells": [
  {
   "cell_type": "markdown",
   "id": "e9fa0266",
   "metadata": {},
   "source": [
    "### Caveat\n",
    "\n",
    "Unlike Ridge, LASSO does not have a closed form solution\n",
    "\n",
    "It uses coordinate descent (scikit learn's lasso). to learn\n",
    "torch does not support coordinate descent. Therefore, we use AdamW instead. "
   ]
  },
  {
   "cell_type": "code",
   "execution_count": null,
   "id": "3b06b3a0",
   "metadata": {},
   "outputs": [],
   "source": [
    "import sys\n",
    "import os\n",
    "\n",
    "root_dir = os.path.abspath(\"..\")\n",
    "sys.path.append(root_dir)"
   ]
  },
  {
   "cell_type": "code",
   "execution_count": 2,
   "id": "68efb544",
   "metadata": {},
   "outputs": [],
   "source": [
    "import torch\n",
    "\n",
    "from data.regression import generate_regression_data\n",
    "from models.lasso.regression import LASSORegression"
   ]
  },
  {
   "cell_type": "code",
   "execution_count": 3,
   "id": "43c8781c",
   "metadata": {},
   "outputs": [],
   "source": [
    "X_df, y_series = generate_regression_data()\n",
    "\n",
    "X_tensor = torch.tensor(X_df.values, dtype=torch.float32)\n",
    "y_tensor = torch.tensor(y_series.values, dtype=torch.float32)\n",
    "y_tensor = y_tensor.view(-1, 1)  # Reshape to be a column vector\n",
    "\n",
    "train_size = int(0.8 * len(X_tensor))\n",
    "X_train, X_test = X_tensor[:train_size], X_tensor[train_size:]\n",
    "y_train, y_test = y_tensor[:train_size], y_tensor[train_size:]"
   ]
  },
  {
   "cell_type": "code",
   "execution_count": 6,
   "id": "b1c0d56b",
   "metadata": {},
   "outputs": [],
   "source": [
    "model = LASSORegression(n_features=X_train.shape[1], alpha=1.0)\n",
    "\n",
    "# In this case we succeeded with SGD\n",
    "# However, L1 is not differentiable at 0\n",
    "# Pytorch autograd handles it with subgradients. Often just resulting in small values instead of exactly zero.\n",
    "optimizer = torch.optim.AdamW(model.parameters(), lr=0.01)\n",
    "for epoch in range(1500):\n",
    "    y_pred = model(X_train)\n",
    "    loss = model.lasso_loss(y_pred, y_train)\n",
    "    optimizer.zero_grad()  # Clear gradients\n",
    "    loss.backward()  # type: ignore\n",
    "    optimizer.step()  # type: ignore | Update step"
   ]
  },
  {
   "cell_type": "code",
   "execution_count": 7,
   "id": "260b5c80",
   "metadata": {},
   "outputs": [
    {
     "name": "stdout",
     "output_type": "stream",
     "text": [
      "R^2 on test set: 0.9553\n"
     ]
    }
   ],
   "source": [
    "model.eval()\n",
    "with torch.no_grad():\n",
    "    y_test_pred = model(X_test)\n",
    "    r2 = model.r2_score(y_test_pred, y_test)\n",
    "    print(f\"R^2 on test set: {r2.item():.4f}\")"
   ]
  }
 ],
 "metadata": {
  "kernelspec": {
   "display_name": "ds-202509-recreate-models",
   "language": "python",
   "name": "python3"
  },
  "language_info": {
   "codemirror_mode": {
    "name": "ipython",
    "version": 3
   },
   "file_extension": ".py",
   "mimetype": "text/x-python",
   "name": "python",
   "nbconvert_exporter": "python",
   "pygments_lexer": "ipython3",
   "version": "3.12.9"
  }
 },
 "nbformat": 4,
 "nbformat_minor": 5
}
