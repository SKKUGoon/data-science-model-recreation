{
 "cells": [
  {
   "cell_type": "code",
   "execution_count": 1,
   "id": "66aa4008",
   "metadata": {},
   "outputs": [],
   "source": [
    "import torch"
   ]
  },
  {
   "cell_type": "code",
   "execution_count": 2,
   "id": "bc077630",
   "metadata": {},
   "outputs": [
    {
     "name": "stdout",
     "output_type": "stream",
     "text": [
      "tensor(0.8671)\n"
     ]
    }
   ],
   "source": [
    "criterion = torch.nn.CrossEntropyLoss()\n",
    "logits = torch.tensor([[0.2, 0.8, 0.1], [0.5, 0.1, 0.4], [0.3, 0.2, 0.5]])\n",
    "target = torch.tensor([1, 0, 2])  # Class indices for each sample\n",
    "loss = criterion(logits, target)\n",
    "print(loss)"
   ]
  },
  {
   "cell_type": "markdown",
   "id": "324fa6b3",
   "metadata": {},
   "source": [
    "### Mathematical Intuition\n",
    "\n",
    "```mermaid\n",
    "graph LR\n",
    "    A[Input x] --> B[Model]\n",
    "    B --> C[Logits]\n",
    "    C --> D[Softmax Function]\n",
    "    D --> E[Output Probabilities over Classes]\n",
    "```\n",
    "\n",
    "#### Cross Entropy \n",
    "\n",
    "Cross entropy comes from Information thoery. \n",
    "\n",
    "`q(k) = 1 if k = y else 0`\n",
    "\n",
    "If the model predicts the class correctly with probability 1\n",
    "* loss = -log(1) = 0\n",
    "\n",
    "If the model predicts with probability 0.9\n",
    "* loss = -log(0.9) = 0.105\n",
    "\n",
    "If the model is confident but wrong (99% but wrong -> 1 - 99% = 0.01)\n",
    "* loss = -log(0.01) = 4.6\n",
    "\n",
    "Forces model to pick the right class + to e confident in the right class\n",
    "\n",
    "\n",
    "**Differentiable therefore, can fit it with Gradient Descent**"
   ]
  }
 ],
 "metadata": {
  "kernelspec": {
   "display_name": "ds-202509-recreate-models",
   "language": "python",
   "name": "python3"
  },
  "language_info": {
   "codemirror_mode": {
    "name": "ipython",
    "version": 3
   },
   "file_extension": ".py",
   "mimetype": "text/x-python",
   "name": "python",
   "nbconvert_exporter": "python",
   "pygments_lexer": "ipython3",
   "version": "3.12.9"
  }
 },
 "nbformat": 4,
 "nbformat_minor": 5
}
