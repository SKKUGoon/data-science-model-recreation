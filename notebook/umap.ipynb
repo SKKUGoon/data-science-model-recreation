{
 "cells": [
  {
   "cell_type": "markdown",
   "id": "4df5e309",
   "metadata": {},
   "source": [
    "### UMAP\n",
    "\n",
    "### Purpose\n",
    "\n",
    "* UMAP's purpose is to reduce the dimensionality\n",
    "* While doing to, it tries to maintain the same geometrical characteristics (tology) of the data points. Closer points stays closer, further points stays further.\n",
    "* Below is the process of narrowing down to 2D\n",
    "\n",
    "### 1. Preprocessing\n",
    "\n",
    "#### 1-1. Create kth closest Distance Matrix and Index Matrix\n",
    "\n",
    "- From each point\n",
    "  - Select kth closest point.\n",
    "  - Calculate `distance` between them. **\"kth closest neighbor distance matrix\"**\n",
    "  - Mark the `index`. **\"kth closest neighbor index matrix\"**\n",
    "\n",
    "#### 1-2. Create Fuzzy graph\n",
    "\n",
    "- **Non-Fuzzy-Graph**\n",
    "  - Nodes: data point\n",
    "  - Edge: 1 or 0. Connected or not\n",
    "\n",
    "- Fuzzy graph contains information, data point's connectivity strength. \n",
    "  - Connectivity -> to Probability using formula\n",
    "\n",
    "### 2. Projection\n",
    "\n",
    "#### 2-1. Drawing it down onto 2D Graph.\n",
    "\n",
    "- Create a similarity graph using **\"kth closest neighbor distance matrix\"**\n",
    "  - assign very high (close to 1) value to close points\n",
    "  - Similary graph = \"low dimension graph\"\n",
    "- Compare similarity graph to probability graph (fuzzy graph, high dimension graph). Calculate cross entrophy\n",
    "- Minimizing cross entrophy point is the optimization. \n",
    "- Resulting similarity graph is final embedding."
   ]
  },
  {
   "cell_type": "markdown",
   "id": "17ded797",
   "metadata": {},
   "source": []
  }
 ],
 "metadata": {
  "kernelspec": {
   "display_name": "ds-202509-recreate-models",
   "language": "python",
   "name": "python3"
  },
  "language_info": {
   "codemirror_mode": {
    "name": "ipython",
    "version": 3
   },
   "file_extension": ".py",
   "mimetype": "text/x-python",
   "name": "python",
   "nbconvert_exporter": "python",
   "pygments_lexer": "ipython3",
   "version": "3.12.9"
  }
 },
 "nbformat": 4,
 "nbformat_minor": 5
}
