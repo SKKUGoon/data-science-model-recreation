{
 "cells": [
  {
   "cell_type": "code",
   "execution_count": null,
   "id": "01f92be1",
   "metadata": {},
   "outputs": [],
   "source": [
    "import sys\n",
    "import os\n",
    "\n",
    "root_dir = os.path.abspath(\"..\")\n",
    "sys.path.append(root_dir)"
   ]
  },
  {
   "cell_type": "code",
   "execution_count": null,
   "id": "d6977e12",
   "metadata": {},
   "outputs": [],
   "source": [
    "import torch\n",
    "\n",
    "from data.regression import generate_regression_data\n",
    "from models.boost.gbm import GBMRegressor"
   ]
  },
  {
   "cell_type": "code",
   "execution_count": null,
   "id": "24448a7c",
   "metadata": {},
   "outputs": [],
   "source": [
    "X_df, y_series = generate_regression_data()\n",
    "\n",
    "X_tensor = torch.tensor(X_df.values, dtype=torch.float32)\n",
    "y_tensor = torch.tensor(y_series.values, dtype=torch.float32)\n",
    "y_tensor = y_tensor.view(-1, 1)  # Reshape to be a column vector\n",
    "\n",
    "train_size = int(0.8 * len(X_tensor))\n",
    "X_train, X_test = X_tensor[:train_size], X_tensor[train_size:]\n",
    "y_train, y_test = y_tensor[:train_size], y_tensor[train_size:]"
   ]
  },
  {
   "cell_type": "code",
   "execution_count": null,
   "id": "bd93617c",
   "metadata": {},
   "outputs": [],
   "source": [
    "reg = GBMRegressor(n_estimators=100, learning_rate=0.1, max_depth=3, random_state=42)\n",
    "reg.fit(X_train, y_train)\n",
    "y_pred = reg.predict(X_test)"
   ]
  }
 ],
 "metadata": {
  "kernelspec": {
   "display_name": "ds-202509-recreate-models",
   "language": "python",
   "name": "python3"
  },
  "language_info": {
   "codemirror_mode": {
    "name": "ipython",
    "version": 3
   },
   "file_extension": ".py",
   "mimetype": "text/x-python",
   "name": "python",
   "nbconvert_exporter": "python",
   "pygments_lexer": "ipython3",
   "version": "3.12.9"
  }
 },
 "nbformat": 4,
 "nbformat_minor": 5
}
