{
 "cells": [
  {
   "cell_type": "code",
   "execution_count": 1,
   "id": "be36fb3c",
   "metadata": {},
   "outputs": [],
   "source": [
    "import sys\n",
    "import os\n",
    "\n",
    "root_dir = os.path.abspath(\"..\")\n",
    "sys.path.append(root_dir)"
   ]
  },
  {
   "cell_type": "code",
   "execution_count": 2,
   "id": "9e96eb9d",
   "metadata": {},
   "outputs": [],
   "source": [
    "from data.regression import generate_regression_data\n",
    "from models.pca.pca import PCA\n",
    "\n",
    "import torch"
   ]
  },
  {
   "cell_type": "code",
   "execution_count": 3,
   "id": "9ccf1d9f",
   "metadata": {},
   "outputs": [],
   "source": [
    "X_df, y_series = generate_regression_data()\n",
    "\n",
    "X_tensor = torch.tensor(X_df.values, dtype=torch.float32)"
   ]
  },
  {
   "cell_type": "code",
   "execution_count": 4,
   "id": "c4d30a24",
   "metadata": {},
   "outputs": [
    {
     "name": "stdout",
     "output_type": "stream",
     "text": [
      "tensor([1.0220, 1.0190, 1.0180, 1.0154, 1.0133, 1.0124, 1.0092, 1.0084, 1.0056,\n",
      "        1.0045, 1.0029, 1.0016, 0.9999, 0.9988, 0.9966, 0.9936, 0.9923, 0.9907,\n",
      "        0.9889, 0.9870, 0.9861, 0.9836, 0.9816, 0.9787, 0.9775])\n",
      "tensor([0.0409, 0.0408, 0.0407, 0.0406, 0.0406, 0.0405, 0.0404, 0.0404, 0.0402,\n",
      "        0.0402, 0.0401, 0.0401, 0.0400, 0.0400, 0.0399, 0.0398, 0.0397, 0.0396,\n",
      "        0.0396, 0.0395, 0.0395, 0.0394, 0.0393, 0.0392, 0.0391])\n"
     ]
    }
   ],
   "source": [
    "model = PCA(n_components=25)\n",
    "feat_selected = model.fit_transform(X_tensor)\n",
    "\n",
    "print(model.explained_variance_)\n",
    "print(model.explained_variance_ratio_)"
   ]
  },
  {
   "cell_type": "code",
   "execution_count": null,
   "id": "60edf704",
   "metadata": {},
   "outputs": [],
   "source": []
  }
 ],
 "metadata": {
  "kernelspec": {
   "display_name": "ds-202509-recreate-models",
   "language": "python",
   "name": "python3"
  },
  "language_info": {
   "codemirror_mode": {
    "name": "ipython",
    "version": 3
   },
   "file_extension": ".py",
   "mimetype": "text/x-python",
   "name": "python",
   "nbconvert_exporter": "python",
   "pygments_lexer": "ipython3",
   "version": "3.12.9"
  }
 },
 "nbformat": 4,
 "nbformat_minor": 5
}
